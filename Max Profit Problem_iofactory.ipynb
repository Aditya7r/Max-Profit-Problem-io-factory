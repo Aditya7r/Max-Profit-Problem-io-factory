{
 "cells": [
  {
   "cell_type": "code",
   "execution_count": 1,
   "metadata": {},
   "outputs": [
    {
     "name": "stdout",
     "output_type": "stream",
     "text": [
      "Time Unit: 13\n",
      "Earnings: $ 16500\n",
      "Solutions: T: 2 P: 0 C: 0\n"
     ]
    }
   ],
   "source": [
    "property_count = [0, 0, 0]  #count for developed properties (Pub, Theatre, Commercial Park)\n",
    "time_unit = [4, 5, 10]  # Time units required to build each property (Pub, Theatre, Commercial Park)\n",
    "\n",
    "def total_earnings(n):\n",
    "    profit = 0  # Total earnings\n",
    "    property_profit = [0, 0, 0]  # Profits for each property \n",
    "    \n",
    "    if n < 4:\n",
    "        return 0  # properties cannot be developed with less than 4 time units\n",
    "    \n",
    "    # Calculate profits for each property based on remaining time\n",
    "    remaining_time = n - 4\n",
    "    property_profit[0] = remaining_time * 1000\n",
    "    if n >= 5:\n",
    "        remaining_time = n - 5\n",
    "        property_profit[1] = remaining_time * 1500\n",
    "        if n >= 10:\n",
    "            remaining_time = n - 10\n",
    "            property_profit[2] = remaining_time * 3000\n",
    "    \n",
    "    max_index = property_profit.index(max(property_profit))  # find index of property type with maximum profit\n",
    "    profit += property_profit[max_index]  # Add the maximum profit to total earnings\n",
    "    property_count[max_index] += 1  # increase the count of developed properties\n",
    "    \n",
    "    return profit + total_earnings(n - time_unit[max_index])  # Recursively calculate earnings for remaining time units\n",
    "\n",
    "\n",
    "n = int(input())\n",
    "earnings = total_earnings(n)\n",
    "\n",
    "print('Time Unit:',n)\n",
    "print(\"Earnings: $\",earnings)\n",
    "print(\"Solutions: T:\", property_count[1],\"P:\",property_count[0],\"C:\",property_count[2])"
   ]
  }
 ],
 "metadata": {
  "kernelspec": {
   "display_name": "base",
   "language": "python",
   "name": "python3"
  },
  "language_info": {
   "codemirror_mode": {
    "name": "ipython",
    "version": 3
   },
   "file_extension": ".py",
   "mimetype": "text/x-python",
   "name": "python",
   "nbconvert_exporter": "python",
   "pygments_lexer": "ipython3",
   "version": "3.10.9"
  },
  "orig_nbformat": 4
 },
 "nbformat": 4,
 "nbformat_minor": 2
}
